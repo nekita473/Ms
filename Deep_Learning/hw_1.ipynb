{
  "cells": [
    {
      "cell_type": "code",
      "execution_count": 1,
      "id": "73646acf",
      "metadata": {
        "id": "73646acf"
      },
      "outputs": [],
      "source": [
        "import torch\n",
        "from torchvision import transforms\n",
        "import torch.nn as nn\n",
        "from tqdm import tqdm\n",
        "import numpy as np\n",
        "import matplotlib.pyplot as plt\n",
        "import pandas as pd\n",
        "from sklearn.model_selection import train_test_split\n",
        "from sklearn.metrics import accuracy_score\n",
        "from torchvision.transforms import v2"
      ]
    },
    {
      "cell_type": "code",
      "execution_count": 2,
      "id": "b4fd1657",
      "metadata": {
        "id": "b4fd1657"
      },
      "outputs": [],
      "source": [
        "df = pd.read_csv('fashion-mnist-testn/fmnist_train.csv')[:-1]\n",
        "test_df = pd.read_csv('fashion-mnist-testn/fmnist_test.csv')"
      ]
    },
    {
      "cell_type": "code",
      "execution_count": 3,
      "id": "03222b62",
      "metadata": {
        "id": "03222b62"
      },
      "outputs": [],
      "source": [
        "train_df, val_df = train_test_split(df, test_size=0.1, stratify=df.iloc[:, 0])"
      ]
    },
    {
      "cell_type": "code",
      "execution_count": 4,
      "id": "b827934e",
      "metadata": {
        "id": "b827934e"
      },
      "outputs": [],
      "source": [
        "class CustomDataset(torch.utils.data.Dataset):\n",
        "    def __init__(self, df, mode):\n",
        "        super().__init__()\n",
        "        self.df = df\n",
        "        self.mode = mode\n",
        "        self.transforms = transforms.Compose([\n",
        "                            transforms.ToTensor(),\n",
        "                        ])\n",
        "\n",
        "    def __len__(self):\n",
        "        return self.df.shape[0]\n",
        "\n",
        "    def __getitem__(self, idx):\n",
        "        if self.mode == 'test':\n",
        "            img = self.df.iloc[idx, :-1].values.reshape(28, 28).astype(float)\n",
        "            return self.transforms(img).to(torch.float)\n",
        "        else:\n",
        "            img = self.df.iloc[idx, 1:-1].values.reshape(28, 28).astype(float)\n",
        "            return self.transforms(img).to(torch.float), torch.tensor(self.df.iloc[idx, 0])"
      ]
    },
    {
      "cell_type": "code",
      "execution_count": 5,
      "id": "65fe8618",
      "metadata": {
        "id": "65fe8618"
      },
      "outputs": [],
      "source": [
        "train_dataset = CustomDataset(train_df, 'train')\n",
        "val_dataset = CustomDataset(val_df, 'val')"
      ]
    },
    {
      "cell_type": "code",
      "execution_count": 6,
      "id": "d1811e1c",
      "metadata": {
        "id": "d1811e1c"
      },
      "outputs": [],
      "source": [
        "train_dataloader = torch.utils.data.DataLoader(train_dataset,\n",
        "                                          batch_size=16,\n",
        "                                          shuffle=True,\n",
        "                                          num_workers=0)\n",
        "val_dataloader = torch.utils.data.DataLoader(val_dataset,\n",
        "                                          batch_size=16,\n",
        "                                          shuffle=False,\n",
        "                                          num_workers=0)"
      ]
    },
    {
      "cell_type": "code",
      "execution_count": 7,
      "id": "vUzDebOfGvRp",
      "metadata": {
        "id": "vUzDebOfGvRp"
      },
      "outputs": [],
      "source": [
        "device = torch.device('cuda:0')"
      ]
    },
    {
      "cell_type": "code",
      "execution_count": null,
      "id": "7ba97493",
      "metadata": {
        "id": "7ba97493"
      },
      "outputs": [],
      "source": [
        "model = nn.Sequential(\n",
        "    nn.Conv2d(in_channels=1, out_channels=16, kernel_size=3, padding=1),\n",
        "    nn.BatchNorm2d(16),\n",
        "    nn.ReLU(),\n",
        "    nn.MaxPool2d(2, 2),\n",
        "    nn.Conv2d(in_channels=16, out_channels=32, kernel_size=3, padding=1),\n",
        "    nn.BatchNorm2d(32),\n",
        "    nn.ReLU(),\n",
        "    nn.MaxPool2d(2, 2),\n",
        "    nn.Conv2d(in_channels=32, out_channels=64, kernel_size=3, padding=1),\n",
        "    nn.BatchNorm2d(64),\n",
        "    nn.ReLU(),\n",
        "    nn.Dropout(0.2),\n",
        "    nn.MaxPool2d(2, 2),\n",
        "    nn.Conv2d(in_channels=64, out_channels=128, kernel_size=3, padding=1),\n",
        "    nn.BatchNorm2d(128),\n",
        "    nn.ReLU(),\n",
        "    nn.Dropout(0.2),\n",
        "    nn.MaxPool2d(2, 2),\n",
        "    nn.Flatten(),\n",
        "    nn.Linear(128, 10)\n",
        ").to(device)\n",
        "\n",
        "loss_fn = nn.CrossEntropyLoss()\n",
        "opt = torch.optim.AdamW(model.parameters(), lr=1e-3)\n",
        "num_epochs = 20"
      ]
    },
    {
      "cell_type": "code",
      "execution_count": null,
      "id": "b939813a",
      "metadata": {},
      "outputs": [],
      "source": []
    },
    {
      "cell_type": "code",
      "execution_count": 33,
      "id": "877215ab",
      "metadata": {
        "colab": {
          "base_uri": "https://localhost:8080/"
        },
        "id": "877215ab",
        "outputId": "1bd47bc8-bafc-4afd-b04f-5ae663f5f923"
      },
      "outputs": [
        {
          "name": "stdout",
          "output_type": "stream",
          "text": [
            "Epoch: 0\n"
          ]
        },
        {
          "name": "stderr",
          "output_type": "stream",
          "text": [
            "100%|██████████| 959/959 [00:09<00:00, 100.70it/s]\n",
            "100%|██████████| 107/107 [00:00<00:00, 163.78it/s]\n"
          ]
        },
        {
          "name": "stdout",
          "output_type": "stream",
          "text": [
            "Epoch: 1\n"
          ]
        },
        {
          "name": "stderr",
          "output_type": "stream",
          "text": [
            "100%|██████████| 959/959 [00:10<00:00, 93.30it/s]\n",
            "100%|██████████| 107/107 [00:00<00:00, 152.68it/s]\n"
          ]
        },
        {
          "name": "stdout",
          "output_type": "stream",
          "text": [
            "Epoch: 2\n"
          ]
        },
        {
          "name": "stderr",
          "output_type": "stream",
          "text": [
            "100%|██████████| 959/959 [00:10<00:00, 90.11it/s]\n",
            "100%|██████████| 107/107 [00:00<00:00, 154.23it/s]\n"
          ]
        },
        {
          "name": "stdout",
          "output_type": "stream",
          "text": [
            "Epoch: 3\n"
          ]
        },
        {
          "name": "stderr",
          "output_type": "stream",
          "text": [
            "100%|██████████| 959/959 [00:10<00:00, 90.29it/s]\n",
            "100%|██████████| 107/107 [00:00<00:00, 153.15it/s]\n"
          ]
        },
        {
          "name": "stdout",
          "output_type": "stream",
          "text": [
            "Epoch: 4\n"
          ]
        },
        {
          "name": "stderr",
          "output_type": "stream",
          "text": [
            "100%|██████████| 959/959 [00:10<00:00, 90.02it/s]\n",
            "100%|██████████| 107/107 [00:00<00:00, 153.18it/s]\n"
          ]
        },
        {
          "name": "stdout",
          "output_type": "stream",
          "text": [
            "Epoch: 5\n"
          ]
        },
        {
          "name": "stderr",
          "output_type": "stream",
          "text": [
            "100%|██████████| 959/959 [00:10<00:00, 91.27it/s]\n",
            "100%|██████████| 107/107 [00:00<00:00, 157.19it/s]\n"
          ]
        },
        {
          "name": "stdout",
          "output_type": "stream",
          "text": [
            "Epoch: 6\n"
          ]
        },
        {
          "name": "stderr",
          "output_type": "stream",
          "text": [
            "100%|██████████| 959/959 [00:10<00:00, 91.47it/s]\n",
            "100%|██████████| 107/107 [00:00<00:00, 150.53it/s]\n"
          ]
        },
        {
          "name": "stdout",
          "output_type": "stream",
          "text": [
            "Epoch: 7\n"
          ]
        },
        {
          "name": "stderr",
          "output_type": "stream",
          "text": [
            "100%|██████████| 959/959 [00:10<00:00, 90.88it/s]\n",
            "100%|██████████| 107/107 [00:00<00:00, 153.64it/s]\n"
          ]
        },
        {
          "name": "stdout",
          "output_type": "stream",
          "text": [
            "Epoch: 8\n"
          ]
        },
        {
          "name": "stderr",
          "output_type": "stream",
          "text": [
            "100%|██████████| 959/959 [00:09<00:00, 95.98it/s]\n",
            "100%|██████████| 107/107 [00:00<00:00, 158.35it/s]\n"
          ]
        },
        {
          "name": "stdout",
          "output_type": "stream",
          "text": [
            "Epoch: 9\n"
          ]
        },
        {
          "name": "stderr",
          "output_type": "stream",
          "text": [
            "100%|██████████| 959/959 [00:09<00:00, 95.97it/s]\n",
            "100%|██████████| 107/107 [00:00<00:00, 158.19it/s]\n"
          ]
        },
        {
          "name": "stdout",
          "output_type": "stream",
          "text": [
            "Epoch: 10\n"
          ]
        },
        {
          "name": "stderr",
          "output_type": "stream",
          "text": [
            "100%|██████████| 959/959 [00:10<00:00, 94.81it/s]\n",
            "100%|██████████| 107/107 [00:00<00:00, 155.20it/s]\n"
          ]
        },
        {
          "name": "stdout",
          "output_type": "stream",
          "text": [
            "Epoch: 11\n"
          ]
        },
        {
          "name": "stderr",
          "output_type": "stream",
          "text": [
            "100%|██████████| 959/959 [00:10<00:00, 90.18it/s]\n",
            "100%|██████████| 107/107 [00:00<00:00, 154.35it/s]\n"
          ]
        },
        {
          "name": "stdout",
          "output_type": "stream",
          "text": [
            "Epoch: 12\n"
          ]
        },
        {
          "name": "stderr",
          "output_type": "stream",
          "text": [
            "100%|██████████| 959/959 [00:10<00:00, 90.48it/s]\n",
            "100%|██████████| 107/107 [00:00<00:00, 152.80it/s]\n"
          ]
        },
        {
          "name": "stdout",
          "output_type": "stream",
          "text": [
            "Epoch: 13\n"
          ]
        },
        {
          "name": "stderr",
          "output_type": "stream",
          "text": [
            "100%|██████████| 959/959 [00:10<00:00, 91.38it/s]\n",
            "100%|██████████| 107/107 [00:00<00:00, 152.88it/s]\n"
          ]
        },
        {
          "name": "stdout",
          "output_type": "stream",
          "text": [
            "Epoch: 14\n"
          ]
        },
        {
          "name": "stderr",
          "output_type": "stream",
          "text": [
            "100%|██████████| 959/959 [00:10<00:00, 90.23it/s]\n",
            "100%|██████████| 107/107 [00:00<00:00, 154.60it/s]\n"
          ]
        },
        {
          "name": "stdout",
          "output_type": "stream",
          "text": [
            "Epoch: 15\n"
          ]
        },
        {
          "name": "stderr",
          "output_type": "stream",
          "text": [
            "100%|██████████| 959/959 [00:10<00:00, 90.62it/s]\n",
            "100%|██████████| 107/107 [00:00<00:00, 154.20it/s]\n"
          ]
        },
        {
          "name": "stdout",
          "output_type": "stream",
          "text": [
            "Epoch: 16\n"
          ]
        },
        {
          "name": "stderr",
          "output_type": "stream",
          "text": [
            "100%|██████████| 959/959 [00:10<00:00, 91.02it/s]\n",
            "100%|██████████| 107/107 [00:00<00:00, 153.73it/s]\n"
          ]
        },
        {
          "name": "stdout",
          "output_type": "stream",
          "text": [
            "Epoch: 17\n"
          ]
        },
        {
          "name": "stderr",
          "output_type": "stream",
          "text": [
            "100%|██████████| 959/959 [00:10<00:00, 91.04it/s]\n",
            "100%|██████████| 107/107 [00:00<00:00, 154.26it/s]\n"
          ]
        },
        {
          "name": "stdout",
          "output_type": "stream",
          "text": [
            "Epoch: 18\n"
          ]
        },
        {
          "name": "stderr",
          "output_type": "stream",
          "text": [
            "100%|██████████| 959/959 [00:10<00:00, 91.44it/s]\n",
            "100%|██████████| 107/107 [00:00<00:00, 159.10it/s]\n"
          ]
        },
        {
          "name": "stdout",
          "output_type": "stream",
          "text": [
            "Epoch: 19\n"
          ]
        },
        {
          "name": "stderr",
          "output_type": "stream",
          "text": [
            "100%|██████████| 959/959 [00:09<00:00, 96.99it/s]\n",
            "100%|██████████| 107/107 [00:00<00:00, 159.89it/s]\n"
          ]
        }
      ],
      "source": [
        "train_losses = []\n",
        "val_losses = []\n",
        "train_accuracies = []\n",
        "val_accuracies = []\n",
        "\n",
        "for epoch in range(num_epochs):\n",
        "    train_epoch_losses = []\n",
        "    val_epoch_losses = []\n",
        "    train_epoch_accuracies = []\n",
        "    val_epoch_accuracies = []\n",
        "\n",
        "    model.train()\n",
        "    print(f'Epoch: {epoch}')\n",
        "    for x, y in tqdm(train_dataloader):\n",
        "        x, y = x.to(device), y.to(device)\n",
        "        opt.zero_grad()\n",
        "        preds = model(x)\n",
        "        loss = loss_fn(preds, y)\n",
        "\n",
        "        assert not np.isnan(loss.item())\n",
        "        loss.backward()\n",
        "        opt.step()\n",
        "        train_epoch_losses.append(loss.item())\n",
        "        train_epoch_accuracies.append(accuracy_score(y.detach().cpu().numpy(), preds.argmax(dim=1).detach().cpu().numpy()))\n",
        "\n",
        "\n",
        "    model.eval()\n",
        "    for x, y in tqdm(val_dataloader):\n",
        "        x, y = x.to(device), y.to(device)\n",
        "        preds = model(x)\n",
        "        loss = loss_fn(preds, y)\n",
        "        val_epoch_losses.append(loss.item())\n",
        "        val_epoch_accuracies.append(accuracy_score(y.detach().cpu().numpy(), preds.argmax(dim=1).detach().cpu().numpy()))\n",
        "\n",
        "    train_losses.append(np.mean(train_epoch_losses))\n",
        "    val_losses.append(np.mean(val_epoch_losses))\n",
        "    train_accuracies.append(np.mean(train_epoch_accuracies))\n",
        "    val_accuracies.append(np.mean(val_epoch_accuracies))"
      ]
    },
    {
      "cell_type": "code",
      "execution_count": 34,
      "id": "bfd1dfcb",
      "metadata": {
        "colab": {
          "base_uri": "https://localhost:8080/",
          "height": 451
        },
        "id": "bfd1dfcb",
        "outputId": "b096f304-87f3-4988-83c6-ddde853c4fdb"
      },
      "outputs": [
        {
          "data": {
            "text/plain": [
              "[<matplotlib.lines.Line2D at 0x2121afdf4d0>]"
            ]
          },
          "execution_count": 34,
          "metadata": {},
          "output_type": "execute_result"
        },
        {
          "data": {
            "image/png": "[encoded data removed]",
            "text/plain": [
              "<Figure size 640x480 with 1 Axes>"
            ]
          },
          "metadata": {},
          "output_type": "display_data"
        }
      ],
      "source": [
        "plt.plot(train_losses)\n",
        "plt.plot(val_losses)"
      ]
    },
    {
      "cell_type": "code",
      "execution_count": 35,
      "id": "16e1c191",
      "metadata": {
        "id": "16e1c191"
      },
      "outputs": [
        {
          "data": {
            "text/plain": [
              "[<matplotlib.lines.Line2D at 0x2121b055bd0>]"
            ]
          },
          "execution_count": 35,
          "metadata": {},
          "output_type": "execute_result"
        },
        {
          "data": {
            "image/png": "[encoded data removed]",
            "text/plain": [
              "<Figure size 640x480 with 1 Axes>"
            ]
          },
          "metadata": {},
          "output_type": "display_data"
        }
      ],
      "source": [
        "plt.plot(train_accuracies)\n",
        "plt.plot(val_accuracies)"
      ]
    },
    {
      "cell_type": "code",
      "execution_count": 36,
      "id": "bf0e5852",
      "metadata": {
        "colab": {
          "base_uri": "https://localhost:8080/"
        },
        "id": "bf0e5852",
        "outputId": "bf5f60b0-59d2-45d5-85d2-2fc5d93b567f"
      },
      "outputs": [
        {
          "name": "stderr",
          "output_type": "stream",
          "text": [
            "100%|██████████| 107/107 [00:00<00:00, 154.77it/s]\n"
          ]
        }
      ],
      "source": [
        "reals, predicts = [], []\n",
        "\n",
        "model.eval()\n",
        "for x, y in tqdm(val_dataloader):\n",
        "    x, y = x.to(device), y.to(device)\n",
        "    preds = model(x)\n",
        "\n",
        "    reals.extend(y.detach().cpu().numpy().tolist())\n",
        "    predicts.extend(preds.argmax(dim=1).detach().cpu().numpy().tolist())"
      ]
    },
    {
      "cell_type": "code",
      "execution_count": 37,
      "id": "3_fjhDcwKq_K",
      "metadata": {
        "colab": {
          "base_uri": "https://localhost:8080/"
        },
        "id": "3_fjhDcwKq_K",
        "outputId": "1eaa4e9e-b80e-455f-d649-6c8260f8afdc"
      },
      "outputs": [
        {
          "data": {
            "text/plain": [
              "0.9002347417840375"
            ]
          },
          "execution_count": 37,
          "metadata": {},
          "output_type": "execute_result"
        }
      ],
      "source": [
        "accuracy_score(reals, predicts)"
      ]
    },
    {
      "cell_type": "code",
      "execution_count": 38,
      "id": "MKISclvzKtxJ",
      "metadata": {
        "id": "MKISclvzKtxJ"
      },
      "outputs": [],
      "source": [
        "test_dataset = CustomDataset(test_df, 'test')"
      ]
    },
    {
      "cell_type": "code",
      "execution_count": 39,
      "id": "PURciGBwLC9k",
      "metadata": {
        "id": "PURciGBwLC9k"
      },
      "outputs": [],
      "source": [
        "test_dataloader = torch.utils.data.DataLoader(test_dataset,\n",
        "                                          batch_size=16,\n",
        "                                          shuffle=False,\n",
        "                                          num_workers=0)"
      ]
    },
    {
      "cell_type": "code",
      "execution_count": 40,
      "id": "zmMau1PSLHU_",
      "metadata": {
        "id": "zmMau1PSLHU_"
      },
      "outputs": [],
      "source": [
        "submission = pd.read_csv('fashion-mnist-testn/sample_submission.csv')"
      ]
    },
    {
      "cell_type": "code",
      "execution_count": 41,
      "id": "qaFQ4FrtLTLE",
      "metadata": {
        "colab": {
          "base_uri": "https://localhost:8080/"
        },
        "id": "qaFQ4FrtLTLE",
        "outputId": "dac17dd0-e19d-4c3a-dd9e-76eacdb7f545"
      },
      "outputs": [
        {
          "name": "stderr",
          "output_type": "stream",
          "text": [
            "100%|██████████| 625/625 [00:01<00:00, 482.96it/s]\n"
          ]
        }
      ],
      "source": [
        "predicts = []\n",
        "\n",
        "model.eval()\n",
        "for x in tqdm(test_dataloader):\n",
        "    x = x.to(device)\n",
        "    preds = model(x)\n",
        "    predicts.extend(preds.argmax(dim=1).detach().cpu().numpy().tolist())"
      ]
    },
    {
      "cell_type": "code",
      "execution_count": 42,
      "id": "bFhTJHjFLMfp",
      "metadata": {
        "id": "bFhTJHjFLMfp"
      },
      "outputs": [],
      "source": [
        "submission['label'] = predicts"
      ]
    },
    {
      "cell_type": "code",
      "execution_count": 43,
      "id": "Ala2Jl6CLZwt",
      "metadata": {
        "id": "Ala2Jl6CLZwt"
      },
      "outputs": [],
      "source": [
        "submission.to_csv('submission_VasilevNA_2.csv', index=False)"
      ]
    },
    {
      "cell_type": "code",
      "execution_count": null,
      "id": "7cf1a3cf",
      "metadata": {},
      "outputs": [],
      "source": []
    },
    {
      "cell_type": "code",
      "execution_count": null,
      "id": "13c76fa0",
      "metadata": {},
      "outputs": [],
      "source": []
    }
  ],
  "metadata": {
    "accelerator": "GPU",
    "colab": {
      "gpuType": "T4",
      "provenance": []
    },
    "kernelspec": {
      "display_name": ".venv",
      "language": "python",
      "name": "python3"
    },
    "language_info": {
      "codemirror_mode": {
        "name": "ipython",
        "version": 3
      },
      "file_extension": ".py",
      "mimetype": "text/x-python",
      "name": "python",
      "nbconvert_exporter": "python",
      "pygments_lexer": "ipython3",
      "version": "3.13.3"
    }
  },
  "nbformat": 4,
  "nbformat_minor": 5
}
