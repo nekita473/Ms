{
  "cells": [
    {
      "cell_type": "code",
      "execution_count": 3,
      "id": "78058880",
      "metadata": {
        "id": "78058880"
      },
      "outputs": [],
      "source": [
        "import torch\n",
        "from torchvision import transforms\n",
        "import torch.nn as nn\n",
        "from tqdm import tqdm\n",
        "import numpy as np\n",
        "import matplotlib.pyplot as plt\n",
        "import pandas as pd\n",
        "from sklearn.model_selection import train_test_split\n",
        "from sklearn.metrics import accuracy_score\n",
        "from torchvision.transforms import v2"
      ]
    },
    {
      "cell_type": "code",
      "execution_count": 4,
      "id": "b94a4671",
      "metadata": {
        "id": "b94a4671"
      },
      "outputs": [],
      "source": [
        "images = np.load('data/mds-misis-dl-captchan/images.npy')\n",
        "labels = np.load('data/mds-misis-dl-captchan/labels.npy')"
      ]
    },
    {
      "cell_type": "code",
      "execution_count": 5,
      "id": "b52e2b70",
      "metadata": {
        "id": "b52e2b70"
      },
      "outputs": [],
      "source": [
        "train_images, val_images, train_labels, val_labels = train_test_split(images, labels, test_size=0.1, stratify=labels)"
      ]
    },
    {
      "cell_type": "code",
      "execution_count": 57,
      "id": "59c63f86",
      "metadata": {
        "id": "59c63f86"
      },
      "outputs": [],
      "source": [
        "class CustomDataset(torch.utils.data.Dataset):\n",
        "    def __init__(self, images, labels=None, mode='train'):\n",
        "        super().__init__()\n",
        "        self.images = images\n",
        "        self.labels = labels\n",
        "        self.mode = mode\n",
        "        self.transforms = v2.Compose([\n",
        "                            v2.ToImage(),\n",
        "                            # v2.RandomHorizontalFlip(p=0.5),\n",
        "                            v2.RandomRotation(degrees=(-30, 30)),\n",
        "                            v2.ColorJitter(brightness=.5, hue=.3),\n",
        "                            v2.ToDtype(torch.float32, scale=True),\n",
        "                            v2.Normalize(mean=[0.485, 0.456, 0.406], std=[0.229, 0.224, 0.225])\n",
        "                        ])\n",
        "\n",
        "        self.val_transforms = v2.Compose([\n",
        "                            v2.ToImage(),\n",
        "                            v2.ToDtype(torch.float32, scale=True),\n",
        "                            v2.Normalize(mean=[0.485, 0.456, 0.406], std=[0.229, 0.224, 0.225])\n",
        "                        ])\n",
        "\n",
        "    def __len__(self):\n",
        "        return self.images.shape[0]\n",
        "\n",
        "    def __getitem__(self, idx):\n",
        "        if self.mode == 'test':\n",
        "            img = self.images[idx]\n",
        "            return self.val_transforms(img)\n",
        "        elif self.mode == 'val':\n",
        "            img = self.images[idx]\n",
        "            return self.val_transforms(img), torch.tensor(self.labels[idx])\n",
        "        else:\n",
        "            img = self.images[idx]\n",
        "            return self.transforms(img), torch.tensor(self.labels[idx])"
      ]
    },
    {
      "cell_type": "code",
      "execution_count": 58,
      "id": "d06ad1a9",
      "metadata": {
        "id": "d06ad1a9"
      },
      "outputs": [],
      "source": [
        "train_dataset = CustomDataset(train_images, train_labels, 'train')\n",
        "val_dataset = CustomDataset(val_images, val_labels, 'val')"
      ]
    },
    {
      "cell_type": "code",
      "execution_count": 59,
      "id": "c95bfab8",
      "metadata": {
        "id": "c95bfab8"
      },
      "outputs": [],
      "source": [
        "train_dataloader = torch.utils.data.DataLoader(train_dataset,\n",
        "                                          batch_size=16,\n",
        "                                          shuffle=True,\n",
        "                                          num_workers=2)\n",
        "val_dataloader = torch.utils.data.DataLoader(val_dataset,\n",
        "                                          batch_size=16,\n",
        "                                          shuffle=False,\n",
        "                                          num_workers=2)"
      ]
    },
    {
      "cell_type": "code",
      "execution_count": 60,
      "id": "d90343c7",
      "metadata": {
        "id": "d90343c7"
      },
      "outputs": [],
      "source": [
        "device = torch.device('cuda:0')"
      ]
    },
    {
      "cell_type": "code",
      "execution_count": 61,
      "id": "c8a178a1",
      "metadata": {
        "id": "c8a178a1"
      },
      "outputs": [],
      "source": [
        "model = nn.Sequential(\n",
        "    nn.Conv2d(in_channels=3, out_channels=16, kernel_size=3, padding=1),\n",
        "    nn.BatchNorm2d(16),\n",
        "    nn.ReLU(),\n",
        "    nn.MaxPool2d(2, 2),\n",
        "    nn.Conv2d(in_channels=16, out_channels=32, kernel_size=3, padding=1),\n",
        "    nn.BatchNorm2d(32),\n",
        "    nn.ReLU(),\n",
        "    nn.MaxPool2d(2, 2),\n",
        "    nn.Conv2d(in_channels=32, out_channels=64, kernel_size=3, padding=1),\n",
        "    nn.BatchNorm2d(64),\n",
        "    nn.ReLU(),\n",
        "    nn.Dropout(0.2),\n",
        "    nn.MaxPool2d(2, 2),\n",
        "    nn.Conv2d(in_channels=64, out_channels=128, kernel_size=3, padding=1),\n",
        "    nn.BatchNorm2d(128),\n",
        "    nn.ReLU(),\n",
        "    nn.Dropout(0.2),\n",
        "    nn.MaxPool2d(2, 2),\n",
        "    nn.Conv2d(in_channels=128, out_channels=256, kernel_size=3, padding=1),\n",
        "    nn.BatchNorm2d(256),\n",
        "    nn.ReLU(),\n",
        "    nn.Dropout(0.2),\n",
        "    nn.MaxPool2d(2, 2),\n",
        "    nn.Flatten(),\n",
        "    nn.Linear(256, 26)\n",
        ").to(device)\n",
        "\n",
        "loss_fn = nn.CrossEntropyLoss()\n",
        "opt = torch.optim.AdamW(model.parameters(), lr=1e-3)\n",
        "num_epochs = 30"
      ]
    },
    {
      "cell_type": "code",
      "execution_count": 62,
      "id": "0ec8c770",
      "metadata": {
        "colab": {
          "base_uri": "https://localhost:8080/"
        },
        "id": "0ec8c770",
        "outputId": "ac196372-1f6c-4a3a-9dc3-3d27a647ef1c"
      },
      "outputs": [
        {
          "name": "stdout",
          "output_type": "stream",
          "text": [
            "Epoch: 0\n"
          ]
        },
        {
          "name": "stderr",
          "output_type": "stream",
          "text": [
            "100%|██████████| 1125/1125 [00:31<00:00, 35.97it/s]\n",
            "100%|██████████| 125/125 [00:00<00:00, 138.91it/s]\n"
          ]
        },
        {
          "name": "stdout",
          "output_type": "stream",
          "text": [
            "Saved model with 0.438 accuracy\n",
            "Epoch: 1 Train acc: 0.12466666666666666 Val acc: 0.438\n",
            "Epoch: 1\n"
          ]
        },
        {
          "name": "stderr",
          "output_type": "stream",
          "text": [
            "100%|██████████| 1125/1125 [00:31<00:00, 35.92it/s]\n",
            "100%|██████████| 125/125 [00:01<00:00, 116.39it/s]\n"
          ]
        },
        {
          "name": "stdout",
          "output_type": "stream",
          "text": [
            "Saved model with 0.722 accuracy\n",
            "Epoch: 2 Train acc: 0.509 Val acc: 0.722\n",
            "Epoch: 2\n"
          ]
        },
        {
          "name": "stderr",
          "output_type": "stream",
          "text": [
            "100%|██████████| 1125/1125 [00:33<00:00, 33.75it/s]\n",
            "100%|██████████| 125/125 [00:00<00:00, 138.31it/s]\n"
          ]
        },
        {
          "name": "stdout",
          "output_type": "stream",
          "text": [
            "Saved model with 0.78 accuracy\n",
            "Epoch: 3 Train acc: 0.6465 Val acc: 0.78\n",
            "Epoch: 3\n"
          ]
        },
        {
          "name": "stderr",
          "output_type": "stream",
          "text": [
            "100%|██████████| 1125/1125 [00:32<00:00, 34.35it/s]\n",
            "100%|██████████| 125/125 [00:00<00:00, 140.11it/s]\n"
          ]
        },
        {
          "name": "stdout",
          "output_type": "stream",
          "text": [
            "Saved model with 0.82 accuracy\n",
            "Epoch: 4 Train acc: 0.7056666666666667 Val acc: 0.82\n",
            "Epoch: 4\n"
          ]
        },
        {
          "name": "stderr",
          "output_type": "stream",
          "text": [
            "100%|██████████| 1125/1125 [00:32<00:00, 35.14it/s]\n",
            "100%|██████████| 125/125 [00:01<00:00, 87.01it/s] \n"
          ]
        },
        {
          "name": "stdout",
          "output_type": "stream",
          "text": [
            "Saved model with 0.8375 accuracy\n",
            "Epoch: 5 Train acc: 0.7399444444444444 Val acc: 0.8375\n",
            "Epoch: 5\n"
          ]
        },
        {
          "name": "stderr",
          "output_type": "stream",
          "text": [
            "100%|██████████| 1125/1125 [00:31<00:00, 35.97it/s]\n",
            "100%|██████████| 125/125 [00:00<00:00, 140.73it/s]\n"
          ]
        },
        {
          "name": "stdout",
          "output_type": "stream",
          "text": [
            "Saved model with 0.85 accuracy\n",
            "Epoch: 6 Train acc: 0.7588333333333334 Val acc: 0.85\n",
            "Epoch: 6\n"
          ]
        },
        {
          "name": "stderr",
          "output_type": "stream",
          "text": [
            "100%|██████████| 1125/1125 [00:31<00:00, 35.63it/s]\n",
            "100%|██████████| 125/125 [00:00<00:00, 142.49it/s]\n"
          ]
        },
        {
          "name": "stdout",
          "output_type": "stream",
          "text": [
            "Saved model with 0.8665 accuracy\n",
            "Epoch: 7 Train acc: 0.7757222222222222 Val acc: 0.8665\n",
            "Epoch: 7\n"
          ]
        },
        {
          "name": "stderr",
          "output_type": "stream",
          "text": [
            "100%|██████████| 1125/1125 [00:32<00:00, 34.20it/s]\n",
            "100%|██████████| 125/125 [00:01<00:00, 120.79it/s]\n"
          ]
        },
        {
          "name": "stdout",
          "output_type": "stream",
          "text": [
            "Saved model with 0.8715 accuracy\n",
            "Epoch: 8 Train acc: 0.7906666666666666 Val acc: 0.8715\n",
            "Epoch: 8\n"
          ]
        },
        {
          "name": "stderr",
          "output_type": "stream",
          "text": [
            "100%|██████████| 1125/1125 [00:31<00:00, 35.61it/s]\n",
            "100%|██████████| 125/125 [00:00<00:00, 144.23it/s]\n"
          ]
        },
        {
          "name": "stdout",
          "output_type": "stream",
          "text": [
            "Saved model with 0.8865 accuracy\n",
            "Epoch: 9 Train acc: 0.8053888888888889 Val acc: 0.8865\n",
            "Epoch: 9\n"
          ]
        },
        {
          "name": "stderr",
          "output_type": "stream",
          "text": [
            "100%|██████████| 1125/1125 [00:31<00:00, 35.25it/s]\n",
            "100%|██████████| 125/125 [00:01<00:00, 116.10it/s]\n"
          ]
        },
        {
          "name": "stdout",
          "output_type": "stream",
          "text": [
            "Saved model with 0.891 accuracy\n",
            "Epoch: 10 Train acc: 0.8159444444444445 Val acc: 0.891\n",
            "Epoch: 10\n"
          ]
        },
        {
          "name": "stderr",
          "output_type": "stream",
          "text": [
            "100%|██████████| 1125/1125 [00:33<00:00, 33.98it/s]\n",
            "100%|██████████| 125/125 [00:00<00:00, 136.03it/s]\n"
          ]
        },
        {
          "name": "stdout",
          "output_type": "stream",
          "text": [
            "Epoch: 11 Train acc: 0.8208333333333333 Val acc: 0.89\n",
            "Epoch: 11\n"
          ]
        },
        {
          "name": "stderr",
          "output_type": "stream",
          "text": [
            "100%|██████████| 1125/1125 [00:33<00:00, 33.67it/s]\n",
            "100%|██████████| 125/125 [00:00<00:00, 133.41it/s]\n"
          ]
        },
        {
          "name": "stdout",
          "output_type": "stream",
          "text": [
            "Saved model with 0.894 accuracy\n",
            "Epoch: 12 Train acc: 0.8286666666666667 Val acc: 0.894\n",
            "Epoch: 12\n"
          ]
        },
        {
          "name": "stderr",
          "output_type": "stream",
          "text": [
            "100%|██████████| 1125/1125 [00:31<00:00, 35.17it/s]\n",
            "100%|██████████| 125/125 [00:01<00:00, 88.97it/s]\n"
          ]
        },
        {
          "name": "stdout",
          "output_type": "stream",
          "text": [
            "Saved model with 0.897 accuracy\n",
            "Epoch: 13 Train acc: 0.8345 Val acc: 0.897\n",
            "Epoch: 13\n"
          ]
        },
        {
          "name": "stderr",
          "output_type": "stream",
          "text": [
            "100%|██████████| 1125/1125 [00:31<00:00, 35.16it/s]\n",
            "100%|██████████| 125/125 [00:00<00:00, 139.70it/s]\n"
          ]
        },
        {
          "name": "stdout",
          "output_type": "stream",
          "text": [
            "Saved model with 0.9 accuracy\n",
            "Epoch: 14 Train acc: 0.8365555555555556 Val acc: 0.9\n",
            "Epoch: 14\n"
          ]
        },
        {
          "name": "stderr",
          "output_type": "stream",
          "text": [
            "100%|██████████| 1125/1125 [00:32<00:00, 34.25it/s]\n",
            "100%|██████████| 125/125 [00:00<00:00, 138.44it/s]\n"
          ]
        },
        {
          "name": "stdout",
          "output_type": "stream",
          "text": [
            "Epoch: 15 Train acc: 0.8455 Val acc: 0.8985\n",
            "Epoch: 15\n"
          ]
        },
        {
          "name": "stderr",
          "output_type": "stream",
          "text": [
            "100%|██████████| 1125/1125 [00:34<00:00, 33.06it/s]\n",
            "100%|██████████| 125/125 [00:00<00:00, 136.14it/s]\n"
          ]
        },
        {
          "name": "stdout",
          "output_type": "stream",
          "text": [
            "Epoch: 16 Train acc: 0.8471111111111111 Val acc: 0.8945\n",
            "Epoch: 16\n"
          ]
        },
        {
          "name": "stderr",
          "output_type": "stream",
          "text": [
            "100%|██████████| 1125/1125 [00:31<00:00, 35.41it/s]\n",
            "100%|██████████| 125/125 [00:00<00:00, 139.96it/s]\n"
          ]
        },
        {
          "name": "stdout",
          "output_type": "stream",
          "text": [
            "Saved model with 0.9115 accuracy\n",
            "Epoch: 17 Train acc: 0.8502777777777778 Val acc: 0.9115\n",
            "Epoch: 17\n"
          ]
        },
        {
          "name": "stderr",
          "output_type": "stream",
          "text": [
            "100%|██████████| 1125/1125 [00:31<00:00, 35.70it/s]\n",
            "100%|██████████| 125/125 [00:01<00:00, 93.41it/s] \n"
          ]
        },
        {
          "name": "stdout",
          "output_type": "stream",
          "text": [
            "Epoch: 18 Train acc: 0.8566111111111111 Val acc: 0.9045\n",
            "Epoch: 18\n"
          ]
        },
        {
          "name": "stderr",
          "output_type": "stream",
          "text": [
            "100%|██████████| 1125/1125 [00:33<00:00, 33.10it/s]\n",
            "100%|██████████| 125/125 [00:00<00:00, 140.07it/s]\n"
          ]
        },
        {
          "name": "stdout",
          "output_type": "stream",
          "text": [
            "Epoch: 19 Train acc: 0.8608333333333333 Val acc: 0.91\n",
            "Epoch: 19\n"
          ]
        },
        {
          "name": "stderr",
          "output_type": "stream",
          "text": [
            "100%|██████████| 1125/1125 [00:31<00:00, 35.66it/s]\n",
            "100%|██████████| 125/125 [00:00<00:00, 138.20it/s]\n"
          ]
        },
        {
          "name": "stdout",
          "output_type": "stream",
          "text": [
            "Saved model with 0.9125 accuracy\n",
            "Epoch: 20 Train acc: 0.8626111111111111 Val acc: 0.9125\n",
            "Epoch: 20\n"
          ]
        },
        {
          "name": "stderr",
          "output_type": "stream",
          "text": [
            "100%|██████████| 1125/1125 [00:32<00:00, 34.20it/s]\n",
            "100%|██████████| 125/125 [00:00<00:00, 140.10it/s]\n"
          ]
        },
        {
          "name": "stdout",
          "output_type": "stream",
          "text": [
            "Epoch: 21 Train acc: 0.866 Val acc: 0.9085\n",
            "Epoch: 21\n"
          ]
        },
        {
          "name": "stderr",
          "output_type": "stream",
          "text": [
            "100%|██████████| 1125/1125 [00:31<00:00, 35.75it/s]\n",
            "100%|██████████| 125/125 [00:00<00:00, 135.50it/s]\n"
          ]
        },
        {
          "name": "stdout",
          "output_type": "stream",
          "text": [
            "Epoch: 22 Train acc: 0.8646111111111111 Val acc: 0.9075\n",
            "Epoch: 22\n"
          ]
        },
        {
          "name": "stderr",
          "output_type": "stream",
          "text": [
            "100%|██████████| 1125/1125 [00:31<00:00, 35.63it/s]\n",
            "100%|██████████| 125/125 [00:00<00:00, 129.17it/s]\n"
          ]
        },
        {
          "name": "stdout",
          "output_type": "stream",
          "text": [
            "Saved model with 0.9205 accuracy\n",
            "Epoch: 23 Train acc: 0.8680555555555556 Val acc: 0.9205\n",
            "Epoch: 23\n"
          ]
        },
        {
          "name": "stderr",
          "output_type": "stream",
          "text": [
            "100%|██████████| 1125/1125 [00:33<00:00, 33.98it/s]\n",
            "100%|██████████| 125/125 [00:00<00:00, 136.90it/s]\n"
          ]
        },
        {
          "name": "stdout",
          "output_type": "stream",
          "text": [
            "Epoch: 24 Train acc: 0.8716666666666667 Val acc: 0.9165\n",
            "Epoch: 24\n"
          ]
        },
        {
          "name": "stderr",
          "output_type": "stream",
          "text": [
            "100%|██████████| 1125/1125 [00:31<00:00, 35.63it/s]\n",
            "100%|██████████| 125/125 [00:00<00:00, 139.54it/s]\n"
          ]
        },
        {
          "name": "stdout",
          "output_type": "stream",
          "text": [
            "Epoch: 25 Train acc: 0.8781666666666667 Val acc: 0.918\n",
            "Epoch: 25\n"
          ]
        },
        {
          "name": "stderr",
          "output_type": "stream",
          "text": [
            "100%|██████████| 1125/1125 [00:31<00:00, 35.23it/s]\n",
            "100%|██████████| 125/125 [00:01<00:00, 72.94it/s]\n"
          ]
        },
        {
          "name": "stdout",
          "output_type": "stream",
          "text": [
            "Epoch: 26 Train acc: 0.8748888888888889 Val acc: 0.915\n",
            "Epoch: 26\n"
          ]
        },
        {
          "name": "stderr",
          "output_type": "stream",
          "text": [
            "100%|██████████| 1125/1125 [00:33<00:00, 33.98it/s]\n",
            "100%|██████████| 125/125 [00:00<00:00, 140.59it/s]\n"
          ]
        },
        {
          "name": "stdout",
          "output_type": "stream",
          "text": [
            "Epoch: 27 Train acc: 0.8761666666666666 Val acc: 0.9175\n",
            "Epoch: 27\n"
          ]
        },
        {
          "name": "stderr",
          "output_type": "stream",
          "text": [
            "100%|██████████| 1125/1125 [00:31<00:00, 35.49it/s]\n",
            "100%|██████████| 125/125 [00:00<00:00, 137.31it/s]\n"
          ]
        },
        {
          "name": "stdout",
          "output_type": "stream",
          "text": [
            "Saved model with 0.923 accuracy\n",
            "Epoch: 28 Train acc: 0.8805555555555555 Val acc: 0.923\n",
            "Epoch: 28\n"
          ]
        },
        {
          "name": "stderr",
          "output_type": "stream",
          "text": [
            "100%|██████████| 1125/1125 [00:31<00:00, 35.62it/s]\n",
            "100%|██████████| 125/125 [00:01<00:00, 90.66it/s] \n"
          ]
        },
        {
          "name": "stdout",
          "output_type": "stream",
          "text": [
            "Epoch: 29 Train acc: 0.8848888888888888 Val acc: 0.916\n",
            "Epoch: 29\n"
          ]
        },
        {
          "name": "stderr",
          "output_type": "stream",
          "text": [
            "100%|██████████| 1125/1125 [00:32<00:00, 34.46it/s]\n",
            "100%|██████████| 125/125 [00:00<00:00, 134.83it/s]"
          ]
        },
        {
          "name": "stdout",
          "output_type": "stream",
          "text": [
            "Epoch: 30 Train acc: 0.8824444444444445 Val acc: 0.921\n"
          ]
        },
        {
          "name": "stderr",
          "output_type": "stream",
          "text": [
            "\n"
          ]
        }
      ],
      "source": [
        "train_losses = []\n",
        "val_losses = []\n",
        "train_accuracies = []\n",
        "val_accuracies = []\n",
        "\n",
        "max_acc = 0.\n",
        "\n",
        "for epoch in range(num_epochs):\n",
        "    train_epoch_losses = []\n",
        "    val_epoch_losses = []\n",
        "    train_epoch_accuracies = []\n",
        "    val_epoch_accuracies = []\n",
        "\n",
        "    model.train()\n",
        "    print(f'Epoch: {epoch}')\n",
        "    for x, y in tqdm(train_dataloader):\n",
        "        x, y = x.to(device), y.to(device)\n",
        "        opt.zero_grad()\n",
        "        preds = model(x)\n",
        "        loss = loss_fn(preds, y)\n",
        "\n",
        "        assert not np.isnan(loss.item())\n",
        "        loss.backward()\n",
        "        opt.step()\n",
        "        train_epoch_losses.append(loss.item())\n",
        "        train_epoch_accuracies.append(accuracy_score(y.detach().cpu().numpy(), preds.argmax(dim=1).detach().cpu().numpy()))\n",
        "\n",
        "\n",
        "    model.eval()\n",
        "    for x, y in tqdm(val_dataloader):\n",
        "        x, y = x.to(device), y.to(device)\n",
        "        preds = model(x)\n",
        "        loss = loss_fn(preds, y)\n",
        "        val_epoch_losses.append(loss.item())\n",
        "        val_epoch_accuracies.append(accuracy_score(y.detach().cpu().numpy(), preds.argmax(dim=1).detach().cpu().numpy()))\n",
        "\n",
        "    train_losses.append(np.mean(train_epoch_losses))\n",
        "    val_losses.append(np.mean(val_epoch_losses))\n",
        "    train_accuracies.append(np.mean(train_epoch_accuracies))\n",
        "    val_accuracies.append(np.mean(val_epoch_accuracies))\n",
        "\n",
        "    if val_accuracies[-1] > max_acc:\n",
        "        max_acc = val_accuracies[-1]\n",
        "        torch.save(model, 'model.pt')\n",
        "        print(f'Saved model with {max_acc} accuracy')\n",
        "\n",
        "    print(f'Epoch: {epoch+1} Train acc: {train_accuracies[-1]} Val acc: {val_accuracies[-1]}')"
      ]
    },
    {
      "cell_type": "code",
      "execution_count": 65,
      "id": "0eb8d1a8",
      "metadata": {
        "colab": {
          "base_uri": "https://localhost:8080/",
          "height": 447
        },
        "id": "0eb8d1a8",
        "outputId": "8d89edce-5fb5-4994-cdc8-4150db1f6ee0"
      },
      "outputs": [
        {
          "data": {
            "text/plain": [
              "[<matplotlib.lines.Line2D at 0x7b1fe4a8fa50>]"
            ]
          },
          "execution_count": 65,
          "metadata": {},
          "output_type": "execute_result"
        },
        {
          "data": {
            "image/png": "[encoded data removed]",
            "text/plain": [
              "<Figure size 640x480 with 1 Axes>"
            ]
          },
          "metadata": {},
          "output_type": "display_data"
        }
      ],
      "source": [
        "plt.plot(train_losses)\n",
        "plt.plot(val_losses)"
      ]
    },
    {
      "cell_type": "code",
      "execution_count": 66,
      "id": "c02e8d77",
      "metadata": {
        "colab": {
          "base_uri": "https://localhost:8080/",
          "height": 447
        },
        "id": "c02e8d77",
        "outputId": "629ed034-82ae-45c7-8a5a-fc047dfb919e"
      },
      "outputs": [
        {
          "data": {
            "text/plain": [
              "[<matplotlib.lines.Line2D at 0x7b1fe490f090>]"
            ]
          },
          "execution_count": 66,
          "metadata": {},
          "output_type": "execute_result"
        },
        {
          "data": {
            "image/png": "[encoded data removed]",
            "text/plain": [
              "<Figure size 640x480 with 1 Axes>"
            ]
          },
          "metadata": {},
          "output_type": "display_data"
        }
      ],
      "source": [
        "plt.plot(train_accuracies)\n",
        "plt.plot(val_accuracies)"
      ]
    },
    {
      "cell_type": "code",
      "execution_count": 70,
      "id": "rb8Zx8uIvOQx",
      "metadata": {
        "id": "rb8Zx8uIvOQx"
      },
      "outputs": [],
      "source": [
        "model = torch.load('model.pt', weights_only=False).to(device)"
      ]
    },
    {
      "cell_type": "code",
      "execution_count": 71,
      "id": "f8ffca17",
      "metadata": {
        "colab": {
          "base_uri": "https://localhost:8080/"
        },
        "id": "f8ffca17",
        "outputId": "2eb5e712-b1ee-45a7-8dc4-ff7866d02087"
      },
      "outputs": [
        {
          "name": "stderr",
          "output_type": "stream",
          "text": [
            "100%|██████████| 125/125 [00:00<00:00, 147.62it/s]\n"
          ]
        }
      ],
      "source": [
        "reals, predicts = [], []\n",
        "\n",
        "model.eval()\n",
        "for x, y in tqdm(val_dataloader):\n",
        "    x, y = x.to(device), y.to(device)\n",
        "    preds = model(x)\n",
        "\n",
        "    reals.extend(y.detach().cpu().numpy().tolist())\n",
        "    predicts.extend(preds.argmax(dim=1).detach().cpu().numpy().tolist())"
      ]
    },
    {
      "cell_type": "code",
      "execution_count": 72,
      "id": "8dfe1e6e",
      "metadata": {
        "colab": {
          "base_uri": "https://localhost:8080/"
        },
        "id": "8dfe1e6e",
        "outputId": "a5448741-883a-407a-b2b7-8ebca039b6d3"
      },
      "outputs": [
        {
          "data": {
            "text/plain": [
              "0.923"
            ]
          },
          "execution_count": 72,
          "metadata": {},
          "output_type": "execute_result"
        }
      ],
      "source": [
        "accuracy_score(reals, predicts)"
      ]
    },
    {
      "cell_type": "code",
      "execution_count": 73,
      "id": "249cb072",
      "metadata": {
        "id": "249cb072"
      },
      "outputs": [],
      "source": [
        "test_images = np.load('data/mds-misis-dl-captchan/images_sub.npy')"
      ]
    },
    {
      "cell_type": "code",
      "execution_count": 74,
      "id": "f44c2567",
      "metadata": {
        "id": "f44c2567"
      },
      "outputs": [],
      "source": [
        "test_dataset = CustomDataset(test_images, mode='test')"
      ]
    },
    {
      "cell_type": "code",
      "execution_count": 75,
      "id": "99f00a37",
      "metadata": {
        "id": "99f00a37"
      },
      "outputs": [],
      "source": [
        "test_dataloader = torch.utils.data.DataLoader(test_dataset,\n",
        "                                          batch_size=4,\n",
        "                                          shuffle=False,\n",
        "                                          num_workers=0)"
      ]
    },
    {
      "cell_type": "code",
      "execution_count": 76,
      "id": "bf8f04d0",
      "metadata": {
        "id": "bf8f04d0"
      },
      "outputs": [],
      "source": [
        "submission = pd.read_csv('data/mds-misis-dl-captchan/sample_submission.csv')"
      ]
    },
    {
      "cell_type": "code",
      "execution_count": 77,
      "id": "da137529",
      "metadata": {
        "colab": {
          "base_uri": "https://localhost:8080/"
        },
        "id": "da137529",
        "outputId": "a2fc7f8c-cab9-4bf4-84a1-1df81224b332"
      },
      "outputs": [
        {
          "name": "stderr",
          "output_type": "stream",
          "text": [
            "100%|██████████| 12500/12500 [00:30<00:00, 408.29it/s]\n"
          ]
        }
      ],
      "source": [
        "predicts = []\n",
        "\n",
        "model.eval()\n",
        "for x in tqdm(test_dataloader):\n",
        "    x = x.to(device)\n",
        "    preds = model(x)\n",
        "    predicts.extend(preds.argmax(dim=1).detach().cpu().numpy().tolist())"
      ]
    },
    {
      "cell_type": "code",
      "execution_count": 78,
      "id": "3e467ece",
      "metadata": {
        "id": "3e467ece"
      },
      "outputs": [],
      "source": [
        "submission['Category'] = predicts"
      ]
    },
    {
      "cell_type": "code",
      "execution_count": 79,
      "id": "36adb784",
      "metadata": {
        "id": "36adb784"
      },
      "outputs": [],
      "source": [
        "submission.to_csv('submission_VasilevNA_1.csv', index=False)"
      ]
    },
    {
      "cell_type": "code",
      "execution_count": null,
      "id": "0053b150",
      "metadata": {
        "id": "0053b150"
      },
      "outputs": [],
      "source": []
    }
  ],
  "metadata": {
    "accelerator": "GPU",
    "colab": {
      "gpuType": "T4",
      "provenance": []
    },
    "kernelspec": {
      "display_name": ".venv",
      "language": "python",
      "name": "python3"
    },
    "language_info": {
      "codemirror_mode": {
        "name": "ipython",
        "version": 3
      },
      "file_extension": ".py",
      "mimetype": "text/x-python",
      "name": "python",
      "nbconvert_exporter": "python",
      "pygments_lexer": "ipython3",
      "version": "3.11.9"
    }
  },
  "nbformat": 4,
  "nbformat_minor": 5
}
